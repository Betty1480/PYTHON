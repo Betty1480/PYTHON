{
 "cells": [
  {
   "cell_type": "markdown",
   "id": "cb291199-5acb-4e6b-8505-4711e7602b4d",
   "metadata": {},
   "source": [
    "Exercises: Level 1\n",
    "Get user input using input(“Enter your age: ”). If user is 18 or older, give feedback: You are old enough to drive. If below 18 give feedback to wait for the missing amount of years. Output:"
   ]
  },
  {
   "cell_type": "code",
   "execution_count": 6,
   "id": "5cc70427-c204-4d4c-8948-08d585fbd0b8",
   "metadata": {},
   "outputs": [
    {
     "name": "stdin",
     "output_type": "stream",
     "text": [
      "Enter your age: 8\n"
     ]
    },
    {
     "name": "stdout",
     "output_type": "stream",
     "text": [
      "wait for the missing amount of years\n"
     ]
    }
   ],
   "source": [
    "age=int(input(\"Enter your age:\"))\n",
    "if age>=18:\n",
    "  print(\"You are old enough to drive\")\n",
    "else: \n",
    "  print(\"wait for the missing amount of years\")"
   ]
  },
  {
   "cell_type": "code",
   "execution_count": 7,
   "id": "02648e3e-ddca-4e26-b58c-3de85b9f3a19",
   "metadata": {},
   "outputs": [
    {
     "name": "stdin",
     "output_type": "stream",
     "text": [
      "Enter your age:  8\n"
     ]
    },
    {
     "name": "stdout",
     "output_type": "stream",
     "text": [
      "Please wait 10 more years to be able to drive\n"
     ]
    }
   ],
   "source": [
    "age = int(input(\"Enter your age: \"))  # Convert input to integer\n",
    "\n",
    "if age >= 18:  # Use '>=' for comparison\n",
    "    print(\"You are old enough to drive\")\n",
    "else:\n",
    "    print(f\"Please wait {18 - age} more years to be able to drive\")\n",
    "\n",
    "#print(f\"Please wait {18 - age} more years to be able to drive\")\n",
    "What it does:\n",
    "#The f before the string lets you use f-string formatting (available in Python 3.6+).\n",
    "\n",
    "#{18 - age} calculates how many years are left until the user turns 18.\n",
    "\n",
    "#The result is inserted directly into the string."
   ]
  },
  {
   "cell_type": "markdown",
   "id": "10106975-80f0-4194-9dd0-f9e7ad28554b",
   "metadata": {},
   "source": [
    "2. Compare the values of my_age and your_age using if … else. Who is older (me or you)? Use input(“Enter your age: ”) to get the age as input. You can use a nested condition to print 'year' for 1 year difference in age, 'years' for bigger differences, and a custom text if my_age = your_age. Output:"
   ]
  },
  {
   "cell_type": "code",
   "execution_count": null,
   "id": "a799e6ff-9d11-4672-8cbf-076865783f60",
   "metadata": {},
   "outputs": [],
   "source": [
    "my_age = int(input(\"Enter my age: \"))\n",
    "your_age = int(input(\"Enter your age: \"))\n",
    "\n",
    "if my_age > your_age:\n",
    "    diff = my_age - your_age\n",
    "    if diff == 1:\n",
    "        print(\"I am 1 year older than you.\")\n",
    "    else:\n",
    "        print(f\"I am {diff} years older than you.\")\n",
    "elif your_age > my_age:\n",
    "    diff = your_age - my_age\n",
    "    if diff == 1:\n",
    "        print(\"You are 1 year older than me.\")\n",
    "    else:\n",
    "        print(f\"You are {diff} years older than me.\")\n",
    "else:\n",
    "    print(\"We are the same age!\")\n"
   ]
  },
  {
   "cell_type": "markdown",
   "id": "886a5abf-eb98-4c36-a9f5-59229a0c6652",
   "metadata": {},
   "source": [
    "Get two numbers from the user using input prompt. If a is greater than b return a is greater than b, if a is less b return a is smaller than b, else a is equal to b. Output:\n",
    "\n",
    "Enter number one: 4\n",
    "Enter number two: 3\n",
    "4 is greater than 3"
   ]
  },
  {
   "cell_type": "code",
   "execution_count": null,
   "id": "878b3980-1e6b-4493-833d-ca4666c28b31",
   "metadata": {},
   "outputs": [],
   "source": [
    "a = int(input(\"Enter number one: \"))\n",
    "b = int(input(\"Enter number two: \"))\n",
    "\n",
    "if a > b:\n",
    "    print(f\"{a} is greater than {b}\")\n",
    "elif a < b:\n",
    "    print(f\"{a} is smaller than {b}\")\n",
    "else:\n",
    "    print(f\"{a} is equal to {b}\")\n",
    "\n",
    "##f-strings are cleaner, shorter, and easier to read — that’s why they're commonly used now.\n"
   ]
  },
  {
   "cell_type": "code",
   "execution_count": null,
   "id": "dbda2220-90f5-4cc6-82df-3c879cc855cb",
   "metadata": {},
   "outputs": [],
   "source": [
    "##version of the code without using f-strings, just using string concatenation:\n",
    "\n",
    "a = int(input(\"Enter number one: \"))\n",
    "b = int(input(\"Enter number two: \"))\n",
    "\n",
    "if a > b:\n",
    "    print(str(a) + \" is greater than \" + str(b))\n",
    "elif a < b:\n",
    "    print(str(a) + \" is smaller than \" + str(b))\n",
    "else:\n",
    "    print(str(a) + \" is equal to \" + str(b))\n"
   ]
  },
  {
   "cell_type": "markdown",
   "id": "44ac11b7-dc9a-4902-aff7-de9c5a2efd95",
   "metadata": {},
   "source": [
    "Python doesn’t allow you to directly combine a string and an integer using +. For example:\n",
    "\n",
    "python\n",
    "Copy\n",
    "Edit\n",
    "print(a + \" is greater than \" + b)  # ❌ This will cause an error!\n",
    "You'll get an error like:\n",
    "\n",
    "bash\n",
    "Copy\n",
    "Edit\n",
    "TypeError: unsupported operand type(s) for +: 'int' and 'str'\n",
    "Solution:\n",
    "You convert the integers to strings with str() like this:\n",
    "\n",
    "python\n",
    "Copy\n",
    "Edit\n",
    "print(str(a) + \" is greater than \" + str(b))  # ✅ This works\n",
    "So yeah, even though a and b are integers, we convert them to strings so we can safely join them with the rest of the text in the print statement."
   ]
  },
  {
   "cell_type": "markdown",
   "id": "51667709-75f7-4db6-b0d3-c3f827c86f13",
   "metadata": {},
   "source": [
    "Exercises: Level 2\n",
    "Write a code which gives grade to students according to theirs scores:\n",
    "\n",
    "80-100, A\n",
    "70-89, B\n",
    "60-69, C\n",
    "50-59, D\n",
    "0-49, F\n",
    "\n"
   ]
  },
  {
   "cell_type": "code",
   "execution_count": 8,
   "id": "701ec57e-dc4c-490f-ae06-436e0db39ffb",
   "metadata": {},
   "outputs": [
    {
     "name": "stdin",
     "output_type": "stream",
     "text": [
      "Enter your score:  70\n"
     ]
    },
    {
     "name": "stdout",
     "output_type": "stream",
     "text": [
      "Grade: B\n"
     ]
    }
   ],
   "source": [
    "score = int(input(\"Enter your score: \"))\n",
    "\n",
    "if score >= 80 and score <= 100:\n",
    "    print(\"Grade: A\")\n",
    "elif score >= 70 and score <= 79:\n",
    "    print(\"Grade: B\")\n",
    "elif score >= 60 and score <= 69:\n",
    "    print(\"Grade: C\")\n",
    "elif score >= 50 and score <= 59:\n",
    "    print(\"Grade: D\")\n",
    "elif score >= 0 and score <= 49:\n",
    "    print(\"Grade: F\")\n",
    "else:\n",
    "    print(\"Invalid score. Please enter a number between 0 and 100.\")\n"
   ]
  },
  {
   "cell_type": "markdown",
   "id": "88c950b7-9ebf-4372-a76a-f96a489b0278",
   "metadata": {},
   "source": [
    "Check if the season is Autumn, Winter, Spring or Summer. If the user input is: September, October or November, the season is Autumn. December, January or February, the season is Winter. March, April or May, the season is Spring June, July or August, the season is Summer\n",
    "\n"
   ]
  },
  {
   "cell_type": "code",
   "execution_count": 9,
   "id": "88d61937-e6db-4c6c-bdd9-506a63303ef7",
   "metadata": {},
   "outputs": [
    {
     "name": "stdin",
     "output_type": "stream",
     "text": [
      "Enter the month:  april\n"
     ]
    },
    {
     "name": "stdout",
     "output_type": "stream",
     "text": [
      "The season is Spring.\n"
     ]
    }
   ],
   "source": [
    "month = input(\"Enter the month: \").capitalize()  # Capitalize to handle different cases\n",
    "\n",
    "if month in [\"September\", \"October\", \"November\"]:\n",
    "    print(\"The season is Autumn.\")\n",
    "elif month in [\"December\", \"January\", \"February\"]:\n",
    "    print(\"The season is Winter.\")\n",
    "elif month in [\"March\", \"April\", \"May\"]:\n",
    "    print(\"The season is Spring.\")\n",
    "elif month in [\"June\", \"July\", \"August\"]:\n",
    "    print(\"The season is Summer.\")\n",
    "else:\n",
    "    print(\"Invalid month. Please enter a valid month name.\")\n"
   ]
  },
  {
   "cell_type": "markdown",
   "id": "3ee06c73-4169-438e-874d-294eca582611",
   "metadata": {},
   "source": [
    "The following list contains some fruits:\n",
    "\n",
    "```sh\n",
    "fruits = ['banana', 'orange', 'mango', 'lemon']\n",
    "```\n",
    "\n",
    "If a fruit doesn't exist in the list add the fruit to the list and print the modified list. If the fruit exists print('That fruit already exist in the list')\n"
   ]
  },
  {
   "cell_type": "code",
   "execution_count": null,
   "id": "3075be3c-6e53-428e-8d38-96609d9e48d6",
   "metadata": {},
   "outputs": [],
   "source": [
    "fruits = ['banana', 'orange', 'mango', 'lemon']\n",
    "\n",
    "fruit_to_add = input(\"Enter a fruit to check or add: \").lower()  # Convert input to lowercase for consistent comparison\n",
    "\n",
    "if fruit_to_add in fruits:\n",
    "    print(\"That fruit already exists in the list.\")\n",
    "else:\n",
    "    fruits.append(fruit_to_add)\n",
    "    print(\"Modified list:\", fruits)\n"
   ]
  },
  {
   "cell_type": "markdown",
   "id": "2d8d01c0-2715-4150-9c5a-081f7d13c410",
   "metadata": {},
   "source": [
    "Here we have a person dictionary. Feel free to modify it!\n",
    "        person={\n",
    "    'first_name': 'Asabeneh',\n",
    "    'last_name': 'Yetayeh',\n",
    "    'age': 250,\n",
    "    'country': 'Finland',\n",
    "    'is_marred': True,\n",
    "    'skills': ['JavaScript', 'React', 'Node', 'MongoDB', 'Python'],\n",
    "    'address': {\n",
    "        'street': 'Space street',\n",
    "        'zipcode': '02210'\n",
    "    }\n",
    "    }\n",
    " * Check if the person dictionary has skills key, if so print out the middle skill in the skills list.\n",
    " * Check if the person dictionary has skills key, if so check if the person has 'Python' skill and print out the result.\n",
    " * If a person skills has only JavaScript and React, print('He is a front end developer'), if the person skills has Node, Python, MongoDB, print('He is a backend developer'), if the person skills has React, Node and MongoDB, Print('He is a fullstack developer'), else print('unknown title') - for more accurate results more conditions can be nested!\n",
    " * If the person is married and if he lives in Finland, print the information in the following format:\n",
    "    Asabeneh Yetayeh lives in Finland. He is married.\n"
   ]
  },
  {
   "cell_type": "code",
   "execution_count": null,
   "id": "467c5d19-9f1e-48e1-96cc-1bd119e0ef63",
   "metadata": {},
   "outputs": [],
   "source": [
    "person = {\n",
    "    'first_name': 'Asabeneh',\n",
    "    'last_name': 'Yetayeh',\n",
    "    'age': 250,\n",
    "    'country': 'Finland',\n",
    "    'is_married': True,\n",
    "    'skills': ['JavaScript', 'React', 'Node', 'MongoDB', 'Python'],\n",
    "    'address': {\n",
    "        'street': 'Space street',\n",
    "        'zipcode': '02210'\n",
    "    }\n",
    "}\n",
    "\n",
    "# 1. Check if the person dictionary has a skills key, and if so, print out the middle skill\n",
    "if 'skills' in person:\n",
    "    skills = person['skills']\n",
    "    middle_skill = skills[len(skills) // 2]  # Get the middle skill in the list\n",
    "    print(\"The middle skill is:\", middle_skill)\n",
    "\n",
    "# 2. Check if the person dictionary has a skills key and check if the person has 'Python' skill\n",
    "if 'skills' in person and 'Python' in person['skills']:\n",
    "    print(\"The person has Python skill.\")\n",
    "\n",
    "# 3. Check the skills and print the appropriate title\n",
    "if 'skills' in person:\n",
    "    skills = person['skills']\n",
    "    if 'JavaScript' in skills and 'React' in skills and len(skills) == 2:\n",
    "        print(\"He is a front end developer.\")\n",
    "    elif 'Node' in skills and 'Python' in skills and 'MongoDB' in skills:\n",
    "        print(\"He is a backend developer.\")\n",
    "    elif 'React' in skills and 'Node' in skills and 'MongoDB' in skills:\n",
    "        print(\"He is a fullstack developer.\")\n",
    "    else:\n",
    "        print(\"Unknown title\")\n",
    "\n",
    "# 4. If the person is married and lives in Finland, print the information\n",
    "if person['is_married'] and person['country'] == 'Finland':\n",
    "    print(f\"{person['first_name']} {person['last_name']} lives in {person['country']}. He is married.\")\n"
   ]
  }
 ],
 "metadata": {
  "kernelspec": {
   "display_name": "Python 3 (ipykernel)",
   "language": "python",
   "name": "python3"
  },
  "language_info": {
   "codemirror_mode": {
    "name": "ipython",
    "version": 3
   },
   "file_extension": ".py",
   "mimetype": "text/x-python",
   "name": "python",
   "nbconvert_exporter": "python",
   "pygments_lexer": "ipython3",
   "version": "3.12.7"
  }
 },
 "nbformat": 4,
 "nbformat_minor": 5
}
